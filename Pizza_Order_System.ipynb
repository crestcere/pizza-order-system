{
  "nbformat": 4,
  "nbformat_minor": 0,
  "metadata": {
    "colab": {
      "provenance": [],
      "authorship_tag": "ABX9TyPNWY5ivGXoyPDR53jytP+F",
      "include_colab_link": true
    },
    "kernelspec": {
      "name": "python3",
      "display_name": "Python 3"
    },
    "language_info": {
      "name": "python"
    }
  },
  "cells": [
    {
      "cell_type": "markdown",
      "metadata": {
        "id": "view-in-github",
        "colab_type": "text"
      },
      "source": [
        "<a href=\"https://colab.research.google.com/github/crestcere/pizza-order-system/blob/main/Pizza_Order_System.ipynb\" target=\"_parent\"><img src=\"https://colab.research.google.com/assets/colab-badge.svg\" alt=\"Open In Colab\"/></a>"
      ]
    },
    {
      "cell_type": "markdown",
      "source": [
        "\n",
        "Pizza Order System\n",
        "Project Overview\n",
        "\n",
        "Would you like to open a pizza shop? Then this project could be your dream project. The project aims to have users design their own pizzas and add the user to the database after paying. So what kind of tasks do we have in this project?\n",
        "\n",
        "The Pizza Order system starts with the users choosing the pizza on the menu and the sauces they want.  They have to pay with their choice of sauce and pizza.  Users are required to pay by credit card.  Each pizza has a description and price.  Note that these values ​​must be set as a constant value within the classes.\n",
        "\n",
        "Creating a Google Colaboratory File\n",
        "\n",
        "Make sure your project has .ipynb extension.\n",
        "Make sure that there are comment lines explaining the details in your project.\n",
        "When submitting the project, submit the cells of this .ipynb file so that the cells are run and the results are visible.\n",
        "\n",
        "Importing Required Libraries\n",
        "Import csv and datetime libraries\n",
        "\n",
        "Create “Menu.txt”\n",
        "Create a file named Menu.txt and write the following text in it.\n",
        "\n",
        "* Please Choose a Pizza Base: \n",
        "1: Classic \n",
        "2: Margherita \n",
        "3: TurkPizza \n",
        "4: PlainPizza \n",
        "* and sauce of your choice: \n",
        "11: Olives \n",
        "12: Mushrooms \n",
        "13: GoatCheese \n",
        "14: Meat \n",
        "15: Onions \n",
        "16: Corn \n",
        "* Thank you!\n",
        "Create superclass “pizza”\n",
        "Define the get_description() and get_cost() methods for encapsulation that creates the pizza class and inside this class.\n",
        "This description should be a short description of the prepared pizza!\n",
        "\n",
        "Create subclass “pizza”\n",
        "Classic, Margherita, Turk Pizza, Dominos Pizza. Create pizza classes. Since each of these pizza types is a type of pizza, these classes will be defined as subclasses.\n",
        "Don't forget that each pizza must have its own price and description of the pizzas as variables.\n",
        "\n",
        "Create superclass “Decorator”\n",
        "Create a decorator class. Decorator is called super class of all sauce classes here.\n",
        "The decorator class will use the get_description() and get_cost() methods using the properties of the pizza class. Complete the decorator class using the following methods.\n",
        "\n",
        "   def get_cost(self):\n",
        "       return self.component.get_cost() + \\\n",
        "         Pizza.get_cost(self)\n",
        "\n",
        "\n",
        "   def get_description(self):\n",
        "       return self.component.get_description() + \\\n",
        "         ' ' + Pizza.get_description(self)\n",
        "\n",
        "Determine Olives, Mushrooms, Goat Cheese, Meat, Onions, and Corn as sauces, and define each of the sauces you have determined as a class.\n",
        "Don't forget that each sauce must have its own price and description of the pizzas as variables.\n",
        "Create a main function. This function will print the menu on the screen first. Then let the user choose a pizza and sauce from the menu. After calculating the total price of the selected products, it should ask the user for a name, ID number, credit card number and credit card password. with all required information\n",
        "Calculate the payments of the people who choose their pizza and keep the user's name, user id, credit card information, description of order, time order and credit card password in the \"Orders_Database.csv\" file, which we call the database.\n",
        "\n",
        "Project Delivery\n",
        "\n",
        "For the project, you need to prepare a code file with the extension of .ipynb and run all the cells.\n",
        "You need to add these files that you have prepared to a GitHub repo and add the link of this repo to the form that is given down below.\n",
        "The project will be done as a team or individually. The teams created should be a maximum of 5 people.\n",
        "You can send information about your project team via this form.\n",
        "\n"
      ],
      "metadata": {
        "id": "_nayfHbxPQST"
      }
    },
    {
      "cell_type": "markdown",
      "source": [
        "* Importing Required Libraries\n",
        "* Import csv and datetime libraries"
      ],
      "metadata": {
        "id": "_4iN1IXqP3hV"
      }
    },
    {
      "cell_type": "code",
      "source": [
        "import csv\n",
        "import datetime"
      ],
      "metadata": {
        "id": "DaUyR_1UP37v"
      },
      "execution_count": 2,
      "outputs": []
    },
    {
      "cell_type": "markdown",
      "source": [
        "Create “Menu.txt” Create a file named Menu.txt and write the following text in it.\n",
        "\n",
        "Please Choose a Pizza Base: 1: Classic 2: Margherita 3: TurkPizza 4: PlainPizza\n",
        "and sauce of your choice: 11: Olives 12: Mushrooms 13: GoatCheese 14: Meat 15: Onions 16: Corn\n",
        "Thank you! Create superclass “pizza” Define the get_description() and get_cost() methods for encapsulation that creates the pizza class and inside this class. This description should be a short description of the prepared pizza!"
      ],
      "metadata": {
        "id": "ltg6CU_AQUIU"
      }
    }
  ]
}